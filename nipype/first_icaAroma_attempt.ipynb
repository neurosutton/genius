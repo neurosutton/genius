{
 "cells": [
  {
   "cell_type": "code",
   "execution_count": 2,
   "metadata": {
    "collapsed": false
   },
   "outputs": [],
   "source": [
    "from nipype.interfaces.fsl import ICA_AROMA\n",
    "from nipype.testing import example_data\n",
    "import glob"
   ]
  },
  {
   "cell_type": "code",
   "execution_count": 3,
   "metadata": {
    "collapsed": false
   },
   "outputs": [
    {
     "name": "stdout",
     "output_type": "stream",
     "text": [
      "./ICA_AROMA.py -tr 2.000 -den both -i /data/analysis/brianne/priming_2017/IP234/fp_run1/swIP234_fprun1_20161130.nii -mc /data/analysis/brianne/priming_2017/IP234/fp_run1/rp_IP234_fprun1_20161130.txt -o /data/analysis/brianne/priming_2017/IP234/fp_run1/ICA_testout ;\n",
      "./ICA_AROMA.py -tr 2.000 -den both -i /data/analysis/brianne/priming_2017/IP234/fp_run2/swIP234_fprun2_20161130.nii -mc /data/analysis/brianne/priming_2017/IP234/fp_run2/rp_IP234_fprun2_20161130.txt -o /data/analysis/brianne/priming_2017/IP234/fp_run2/ICA_testout ;\n",
      "./ICA_AROMA.py -tr 2.000 -den both -i /data/analysis/brianne/priming_2017/IP234/fp_run3/swIP234_fprun3_20161130.nii -mc /data/analysis/brianne/priming_2017/IP234/fp_run3/rp_IP234_fprun3_20161130.txt -o /data/analysis/brianne/priming_2017/IP234/fp_run3/ICA_testout ;\n",
      "./ICA_AROMA.py -tr 2.000 -den both -i /data/analysis/brianne/priming_2017/IP234/fp_run4/swIP234_fprun4_20161130.nii -mc /data/analysis/brianne/priming_2017/IP234/fp_run4/rp_IP234_fprun4_20161130.txt -o /data/analysis/brianne/priming_2017/IP234/fp_run4/ICA_testout ;\n",
      "./ICA_AROMA.py -tr 2.000 -den both -i /data/analysis/brianne/priming_2017/IP208/fp_run1/swIP208_fprun1_20160114.nii -mc /data/analysis/brianne/priming_2017/IP208/fp_run1/rp_IP208_fprun1_20160114.txt -o /data/analysis/brianne/priming_2017/IP208/fp_run1/ICA_testout ;\n",
      "./ICA_AROMA.py -tr 2.000 -den both -i /data/analysis/brianne/priming_2017/IP208/fp_run2/swIP208_fprun2_20160114.nii -mc /data/analysis/brianne/priming_2017/IP208/fp_run2/rp_IP208_fprun2_20160114.txt -o /data/analysis/brianne/priming_2017/IP208/fp_run2/ICA_testout ;\n",
      "./ICA_AROMA.py -tr 2.000 -den both -i /data/analysis/brianne/priming_2017/IP208/fp_run3/swIP208_fprun3_20160114.nii -mc /data/analysis/brianne/priming_2017/IP208/fp_run3/rp_IP208_fprun3_20160114.txt -o /data/analysis/brianne/priming_2017/IP208/fp_run3/ICA_testout ;\n",
      "./ICA_AROMA.py -tr 2.000 -den both -i /data/analysis/brianne/priming_2017/IP208/fp_run4/swIP208_fprun4_20160114.nii -mc /data/analysis/brianne/priming_2017/IP208/fp_run4/rp_IP208_fprun4_20160114.txt -o /data/analysis/brianne/priming_2017/IP208/fp_run4/ICA_testout ;\n",
      "./ICA_AROMA.py -tr 2.000 -den both -i /data/analysis/brianne/priming_2017/IP274/fp_run1/swIP274_fprun1_20170516.nii -mc /data/analysis/brianne/priming_2017/IP274/fp_run1/rp_IP274_fprun1_20170516.txt -o /data/analysis/brianne/priming_2017/IP274/fp_run1/ICA_testout ;\n",
      "./ICA_AROMA.py -tr 2.000 -den both -i /data/analysis/brianne/priming_2017/IP274/fp_run2/swIP274_fprun2_20170516.nii -mc /data/analysis/brianne/priming_2017/IP274/fp_run2/rp_IP274_fprun2_20170516.txt -o /data/analysis/brianne/priming_2017/IP274/fp_run2/ICA_testout ;\n",
      "./ICA_AROMA.py -tr 2.000 -den both -i /data/analysis/brianne/priming_2017/IP274/fp_run3/swIP274_fprun3_20170516.nii -mc /data/analysis/brianne/priming_2017/IP274/fp_run3/rp_IP274_fprun3_20170516.txt -o /data/analysis/brianne/priming_2017/IP274/fp_run3/ICA_testout ;\n",
      "./ICA_AROMA.py -tr 2.000 -den both -i /data/analysis/brianne/priming_2017/IP274/fp_run4/swIP274_fprun4_20170516.nii -mc /data/analysis/brianne/priming_2017/IP274/fp_run4/rp_IP274_fprun4_20170516.txt -o /data/analysis/brianne/priming_2017/IP274/fp_run4/ICA_testout ;\n",
      "./ICA_AROMA.py -tr 2.000 -den both -i /data/analysis/brianne/priming_2017/IP245/fp_run1/swIP245_fprun1_20170301.nii -mc /data/analysis/brianne/priming_2017/IP245/fp_run1/rp_IP245_fprun1_20170301.txt -o /data/analysis/brianne/priming_2017/IP245/fp_run1/ICA_testout ;\n",
      "./ICA_AROMA.py -tr 2.000 -den both -i /data/analysis/brianne/priming_2017/IP245/fp_run2/swIP245_fprun2_20170301.nii -mc /data/analysis/brianne/priming_2017/IP245/fp_run2/rp_IP245_fprun2_20170301.txt -o /data/analysis/brianne/priming_2017/IP245/fp_run2/ICA_testout ;\n",
      "./ICA_AROMA.py -tr 2.000 -den both -i /data/analysis/brianne/priming_2017/IP245/fp_run3/swIP245_fprun3_20170301.nii -mc /data/analysis/brianne/priming_2017/IP245/fp_run3/rp_IP245_fprun3_20170301.txt -o /data/analysis/brianne/priming_2017/IP245/fp_run3/ICA_testout ;\n",
      "./ICA_AROMA.py -tr 2.000 -den both -i /data/analysis/brianne/priming_2017/IP245/fp_run4/swIP245_fprun4_20170301.nii -mc /data/analysis/brianne/priming_2017/IP245/fp_run4/rp_IP245_fprun4_20170301.txt -o /data/analysis/brianne/priming_2017/IP245/fp_run4/ICA_testout ;\n",
      "./ICA_AROMA.py -tr 2.000 -den both -i /data/analysis/brianne/priming_2017/IP249/fp_run1/swIP249_fprun1_20170503.nii -mc /data/analysis/brianne/priming_2017/IP249/fp_run1/rp_IP249_fprun1_20170503.txt -o /data/analysis/brianne/priming_2017/IP249/fp_run1/ICA_testout ;\n",
      "./ICA_AROMA.py -tr 2.000 -den both -i /data/analysis/brianne/priming_2017/IP249/fp_run2/swIP249_fprun2_20170503.nii -mc /data/analysis/brianne/priming_2017/IP249/fp_run2/rp_IP249_fprun2_20170503.txt -o /data/analysis/brianne/priming_2017/IP249/fp_run2/ICA_testout ;\n",
      "./ICA_AROMA.py -tr 2.000 -den both -i /data/analysis/brianne/priming_2017/IP249/fp_run3/swIP249_fprun3_20170503.nii -mc /data/analysis/brianne/priming_2017/IP249/fp_run3/rp_IP249_fprun3_20170503.txt -o /data/analysis/brianne/priming_2017/IP249/fp_run3/ICA_testout ;\n",
      "./ICA_AROMA.py -tr 2.000 -den both -i /data/analysis/brianne/priming_2017/IP249/fp_run4/swIP249_fprun4_20170503.nii -mc /data/analysis/brianne/priming_2017/IP249/fp_run4/rp_IP249_fprun4_20170503.txt -o /data/analysis/brianne/priming_2017/IP249/fp_run4/ICA_testout ;\n",
      "./ICA_AROMA.py -tr 2.000 -den both -i /data/analysis/brianne/priming_2017/IP214/fp_run1/swIP214_fprun1_20160713.nii -mc /data/analysis/brianne/priming_2017/IP214/fp_run1/rp_IP214_fprun1_20160713.txt -o /data/analysis/brianne/priming_2017/IP214/fp_run1/ICA_testout ;\n",
      "./ICA_AROMA.py -tr 2.000 -den both -i /data/analysis/brianne/priming_2017/IP214/fp_run2/swIP214_fprun2_20160713.nii -mc /data/analysis/brianne/priming_2017/IP214/fp_run2/rp_IP214_fprun2_20160713.txt -o /data/analysis/brianne/priming_2017/IP214/fp_run2/ICA_testout ;\n",
      "./ICA_AROMA.py -tr 2.000 -den both -i /data/analysis/brianne/priming_2017/IP214/fp_run3/swIP214_fprun3_20160713.nii -mc /data/analysis/brianne/priming_2017/IP214/fp_run3/rp_IP214_fprun3_20160713.txt -o /data/analysis/brianne/priming_2017/IP214/fp_run3/ICA_testout ;\n",
      "./ICA_AROMA.py -tr 2.000 -den both -i /data/analysis/brianne/priming_2017/IP214/fp_run4/swIP214_fprun4_20160713.nii -mc /data/analysis/brianne/priming_2017/IP214/fp_run4/rp_IP214_fprun4_20160713.txt -o /data/analysis/brianne/priming_2017/IP214/fp_run4/ICA_testout ;\n",
      "./ICA_AROMA.py -tr 2.000 -den both -i /data/analysis/brianne/priming_2017/IP211/fp_run1/swIP211_fprun1_20160310.nii -mc /data/analysis/brianne/priming_2017/IP211/fp_run1/rp_IP211_fprun1_20160310.txt -o /data/analysis/brianne/priming_2017/IP211/fp_run1/ICA_testout ;\n",
      "./ICA_AROMA.py -tr 2.000 -den both -i /data/analysis/brianne/priming_2017/IP211/fp_run2/swIP211_fprun2_20160310.nii -mc /data/analysis/brianne/priming_2017/IP211/fp_run2/rp_IP211_fprun2_20160310.txt -o /data/analysis/brianne/priming_2017/IP211/fp_run2/ICA_testout ;\n",
      "./ICA_AROMA.py -tr 2.000 -den both -i /data/analysis/brianne/priming_2017/IP211/fp_run3/swIP211_fprun3_20160310.nii -mc /data/analysis/brianne/priming_2017/IP211/fp_run3/rp_IP211_fprun3_20160310.txt -o /data/analysis/brianne/priming_2017/IP211/fp_run3/ICA_testout ;\n",
      "./ICA_AROMA.py -tr 2.000 -den both -i /data/analysis/brianne/priming_2017/IP211/fp_run4/swIP211_fprun4_20160310.nii -mc /data/analysis/brianne/priming_2017/IP211/fp_run4/rp_IP211_fprun4_20160310.txt -o /data/analysis/brianne/priming_2017/IP211/fp_run4/ICA_testout ;\n"
     ]
    }
   ],
   "source": [
    "aObj = ICA_AROMA.ICA_AROMA()\n",
    "#aObj.inputs.in_file = 'functional.nii'\n",
    "for subj in ({'IP249', 'IP208', 'IP211' ,'IP214', 'IP234' ,'IP274', 'IP245'}):\n",
    "    for runNum in ('1' '2' '3' '4'):\n",
    "        dDir=r'/data/analysis/brianne/priming_2017/' + subj + '/fp_run' + runNum\n",
    "        in_file = glob.glob(dDir + '/sw' + subj + '_fprun' + runNum + '*.nii')\n",
    "        rp_file = glob.glob(dDir + r'/rp_'+ subj + '_fprun' + runNum + '*.txt')\n",
    "        if (len(in_file) > 0):\n",
    "            aObj.inputs.in_file = in_file[0]\n",
    "#aObj.inputs.mat_file = 'func_to_struct.mat' Not used, b/c the scan is already normalized\n",
    "#aObj.inputs.fnirt_warp_file = 'warpfield.nii'\n",
    "#aObj.inputs.motion_parameters = 'fsl_mcflirt_movpar.txt'\n",
    "            aObj.inputs.motion_parameters = rp_file[0]\n",
    "#aObj.inputs.mask = 'mask.nii.gz' Not sure what this option is\n",
    "            aObj.inputs.denoise_type = 'both' #soft and aggressive?\n",
    "            aObj.inputs.out_dir = dDir + r'/ICA_testout'\n",
    "            aObj.inputs.TR = 2\n",
    "            print('./'+ aObj.cmdline+' ;')"
   ]
  },
  {
   "cell_type": "markdown",
   "metadata": {
    "collapsed": true
   },
   "source": [
    "This script/wrapper actually only ends up generating the commandline commands for FSL to run... Not that helpful."
   ]
  }
 ],
 "metadata": {
  "kernelspec": {
   "display_name": "Python 3",
   "language": "python",
   "name": "python3"
  },
  "language_info": {
   "codemirror_mode": {
    "name": "ipython",
    "version": 3
   },
   "file_extension": ".py",
   "mimetype": "text/x-python",
   "name": "python",
   "nbconvert_exporter": "python",
   "pygments_lexer": "ipython3",
   "version": "3.6.0"
  }
 },
 "nbformat": 4,
 "nbformat_minor": 2
}
