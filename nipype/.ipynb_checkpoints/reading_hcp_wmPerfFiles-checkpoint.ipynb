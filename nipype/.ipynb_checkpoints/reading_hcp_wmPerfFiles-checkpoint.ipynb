{
 "cells": [
  {
   "cell_type": "code",
   "execution_count": 1,
   "metadata": {
    "collapsed": true
   },
   "outputs": [],
   "source": [
    "import glob\n",
    "import pandas as pd\n",
    "import numpy as np\n",
    "import os"
   ]
  },
  {
   "cell_type": "code",
   "execution_count": 6,
   "metadata": {
    "collapsed": false
   },
   "outputs": [],
   "source": [
    "home = r'/data/proj_data/hcp/subjs'\n",
    "subjList = glob.glob(home + '/100*')\n",
    "taskOfInt = 'wm'"
   ]
  },
  {
   "cell_type": "code",
   "execution_count": 28,
   "metadata": {
    "collapsed": false
   },
   "outputs": [
    {
     "name": "stdout",
     "output_type": "stream",
     "text": [
      "['/data/proj_data/hcp/subjs/100206/wm/wm_rl/100206_rec_run1_tab.txt', '/data/proj_data/hcp/subjs/100307/wm/wm_rl/100307_rec_run1_tab.txt', '/data/proj_data/hcp/subjs/100408/wm/wm_rl/100408_rec_run1_tab.txt', '/data/proj_data/hcp/subjs/100610/wm/wm_rl/100610_rec_run1_tab.txt']\n"
     ]
    }
   ],
   "source": [
    "perfRL = []\n",
    "perfLR = []\n",
    "for subj in subjList:\n",
    "    projDirRL = os.path.join(home, subj, taskOfInt,taskOfInt + '_rl')\n",
    "    projDirLR = os.path.join(home, subj, taskOfInt,taskOfInt + '_lr')\n",
    "    #print(projDirLR)\n",
    "    tempRL = glob.glob(projDirRL + '/*rec*tab.txt')\n",
    "    tempLR = glob.glob(projDirLR + '/*rec*tab.txt')\n",
    "    if len(tempRL) > 0:\n",
    "        perfRL.extend(tempRL)\n",
    "    if len(tempLR) > 0:\n",
    "        perfLR.extend(tempLR)\n",
    "    \n",
    "print((perfRL))"
   ]
  },
  {
   "cell_type": "code",
   "execution_count": 29,
   "metadata": {
    "collapsed": false
   },
   "outputs": [
    {
     "name": "stdout",
     "output_type": "stream",
     "text": [
      "['ExperimentName', 'HCPID', 'RunNumber', 'Subject', 'Session', 'RandomSeed', 'Group', 'Laptop.RefreshRate', 'ScannerD2.RefreshRate', 'StudioVersion', 'RuntimeVersion', 'RuntimeVersionExpected', 'ExperimentVersion', 'triggercode', 'Allowed', 'RememberResp', 'KnowResp', 'NewResp', 'FontStyle', 'OldResp', 'StimuliDir', 'IntroButtonMap.OnsetDelay', 'IntroButtonMap.OnsetTime', 'IntroButtonMap.DurationError', 'IntroButtonMap.Duration', 'IntroButtonMap.StartTime', 'IntroButtonMap.FinishTime', 'IntroButtonMap.RESP', 'IntroButtonMap.OnsetToOnsetTime', 'GetReady.OnsetDelay', 'GetReady.OnsetTime', 'GetReady.DurationError', 'GetReady.Duration', 'GetReady.StartTime', 'GetReady.FinishTime', 'GetReady.RESP', 'GetReady.OnsetToOnsetTime', 'ACC_For_NewPlace', 'ACC_For_NewFace', 'Percent_Of_OldFace_Rated_As_Know', 'Percent_Of_OldFace_Rated_As_Remember', 'Percent_Of_OldPlace_Rated_As_Know', 'Percent_Of_OldPlace_Rated_As_Remember', 'Avg_RT_For_New_RESP_To_NewPlace', 'Avg_RT_For_New_RESP_To_NewFace', 'Avg_RT_For_Know_RESP_To_OldPlace', 'Avg_RT_For_Know_RESP_To_OldFace', 'Avg_RT_For_Remember_RESP_To_OldPlace', 'Avg_RT_For_Remember_RESP_To_OldFace', 'FeelFreeToRest.OnsetDelay', 'FeelFreeToRest.OnsetTime', 'FeelFreeToRest.DurationError', 'FeelFreeToRest.StartTime', 'FeelFreeToRest.OnsetToOnsetTime', 'ReadyList', 'Procedure', 'Stimulus', 'SyncSlideDur', 'ReadyList.Cycle', 'ReadyList.Sample', 'Running', 'SyncSlide.OnsetDelay', 'SyncSlide.OnsetTime', 'SyncSlide.DurationError', 'SyncSlide.Duration', 'SyncSlide.StartTime', 'SyncSlide.FinishTime', 'SyncSlide.RESP', 'SyncSlide.OnsetToOnsetTime', 'Run1', 'StimType', 'VFDuration', 'SessionSelectionList', 'RunNumberFilterValue', 'SessionSelectionList.Cycle', 'SessionSelectionList.Sample', 'PreStimFix.OnsetDelay', 'PreStimFix.OnsetTime', 'PreStimFix.DurationError', 'PreStimFix.Duration', 'PreStimFix.StartTime', 'PreStimFix.FinishTime', 'PreStimFix.OnsetToOnsetTime', 'Stim.OnsetDelay', 'Stim.OnsetTime', 'Stim.DurationError', 'Stim.Duration', 'Stim.StartTime', 'Stim.FinishTime', 'Stim.RTTime', 'Stim.ACC', 'Stim.RT', 'Stim.RESP', 'Stim.CRESP', 'Stim.OnsetToOnsetTime', 'Fix.OnsetDelay', 'Fix.OnsetTime', 'Fix.DurationError', 'Fix.Duration', 'Fix.StartTime', 'Fix.FinishTime', 'Fix.OnsetToOnsetTime', 'Block']\n"
     ]
    }
   ],
   "source": [
    "df = pd.DataFrame(pd.read_table(perfRL[0]))\n",
    "print(df.columns.tolist())"
   ]
  },
  {
   "cell_type": "code",
   "execution_count": null,
   "metadata": {
    "collapsed": true
   },
   "outputs": [],
   "source": []
  }
 ],
 "metadata": {
  "kernelspec": {
   "display_name": "Python 3",
   "language": "python",
   "name": "python3"
  },
  "language_info": {
   "codemirror_mode": {
    "name": "ipython",
    "version": 3
   },
   "file_extension": ".py",
   "mimetype": "text/x-python",
   "name": "python",
   "nbconvert_exporter": "python",
   "pygments_lexer": "ipython3",
   "version": "3.6.0"
  }
 },
 "nbformat": 4,
 "nbformat_minor": 2
}
