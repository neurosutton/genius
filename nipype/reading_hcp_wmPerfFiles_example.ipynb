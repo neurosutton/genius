{
 "cells": [
  {
   "cell_type": "code",
   "execution_count": 5,
   "metadata": {
    "collapsed": true
   },
   "outputs": [],
   "source": [
    "import glob\n",
    "import pandas as pd\n",
    "import numpy as np\n",
    "import os"
   ]
  },
  {
   "cell_type": "markdown",
   "metadata": {},
   "source": [
    "### Define where the data live.\n",
    "Here the subject list is limited, because we are just starting to query the system and test code. To broaden the scope, change the filter criteria for glob."
   ]
  },
  {
   "cell_type": "code",
   "execution_count": 2,
   "metadata": {
    "collapsed": false
   },
   "outputs": [],
   "source": [
    "home = r'/data/proj_data/hcp/subjs'\n",
    "subjList = glob.glob(home + '/100*')\n",
    "taskOfInt = 'wm'"
   ]
  },
  {
   "cell_type": "markdown",
   "metadata": {},
   "source": [
    "### Define lists of files that may be accessed\n",
    "Only participants with files that you are interested in are listed here."
   ]
  },
  {
   "cell_type": "code",
   "execution_count": 3,
   "metadata": {
    "collapsed": false
   },
   "outputs": [
    {
     "name": "stdout",
     "output_type": "stream",
     "text": [
      "['/data/proj_data/hcp/subjs/100206/wm/wm_rl/100206_rec_run1_tab.txt', '/data/proj_data/hcp/subjs/100307/wm/wm_rl/100307_rec_run1_tab.txt', '/data/proj_data/hcp/subjs/100408/wm/wm_rl/100408_rec_run1_tab.txt', '/data/proj_data/hcp/subjs/100610/wm/wm_rl/100610_rec_run1_tab.txt']\n"
     ]
    }
   ],
   "source": [
    "perfRL = []\n",
    "perfLR = []\n",
    "for subj in subjList:\n",
    "    projDirRL = os.path.join(home, subj, taskOfInt,taskOfInt + '_rl')\n",
    "    projDirLR = os.path.join(home, subj, taskOfInt,taskOfInt + '_lr')\n",
    "    #print(projDirLR)\n",
    "    tempRL = glob.glob(projDirRL + '/*rec*tab.txt')\n",
    "    tempLR = glob.glob(projDirLR + '/*rec*tab.txt')\n",
    "    if len(tempRL) > 0:\n",
    "        perfRL.extend(tempRL)\n",
    "    if len(tempLR) > 0:\n",
    "        perfLR.extend(tempLR)\n",
    "    \n",
    "print((perfRL)) #These are the text files that can be read into a dataframe or culled by specific columns"
   ]
  },
  {
   "cell_type": "markdown",
   "metadata": {},
   "source": [
    "### Look at a single example of a readable table\n",
    "Initially, knowing the available column titles is important."
   ]
  },
  {
   "cell_type": "code",
   "execution_count": 4,
   "metadata": {
    "collapsed": false
   },
   "outputs": [
    {
     "name": "stdout",
     "output_type": "stream",
     "text": [
      "['ExperimentName', 'HCPID', 'RunNumber', 'Subject', 'Session', 'RandomSeed', 'Group', 'Laptop.RefreshRate', 'ScannerD2.RefreshRate', 'StudioVersion', 'RuntimeVersion', 'RuntimeVersionExpected', 'ExperimentVersion', 'triggercode', 'Allowed', 'RememberResp', 'KnowResp', 'NewResp', 'FontStyle', 'OldResp', 'StimuliDir', 'IntroButtonMap.OnsetDelay', 'IntroButtonMap.OnsetTime', 'IntroButtonMap.DurationError', 'IntroButtonMap.Duration', 'IntroButtonMap.StartTime', 'IntroButtonMap.FinishTime', 'IntroButtonMap.RESP', 'IntroButtonMap.OnsetToOnsetTime', 'GetReady.OnsetDelay', 'GetReady.OnsetTime', 'GetReady.DurationError', 'GetReady.Duration', 'GetReady.StartTime', 'GetReady.FinishTime', 'GetReady.RESP', 'GetReady.OnsetToOnsetTime', 'ACC_For_NewPlace', 'ACC_For_NewFace', 'Percent_Of_OldFace_Rated_As_Know', 'Percent_Of_OldFace_Rated_As_Remember', 'Percent_Of_OldPlace_Rated_As_Know', 'Percent_Of_OldPlace_Rated_As_Remember', 'Avg_RT_For_New_RESP_To_NewPlace', 'Avg_RT_For_New_RESP_To_NewFace', 'Avg_RT_For_Know_RESP_To_OldPlace', 'Avg_RT_For_Know_RESP_To_OldFace', 'Avg_RT_For_Remember_RESP_To_OldPlace', 'Avg_RT_For_Remember_RESP_To_OldFace', 'FeelFreeToRest.OnsetDelay', 'FeelFreeToRest.OnsetTime', 'FeelFreeToRest.DurationError', 'FeelFreeToRest.StartTime', 'FeelFreeToRest.OnsetToOnsetTime', 'ReadyList', 'Procedure', 'Stimulus', 'SyncSlideDur', 'ReadyList.Cycle', 'ReadyList.Sample', 'Running', 'SyncSlide.OnsetDelay', 'SyncSlide.OnsetTime', 'SyncSlide.DurationError', 'SyncSlide.Duration', 'SyncSlide.StartTime', 'SyncSlide.FinishTime', 'SyncSlide.RESP', 'SyncSlide.OnsetToOnsetTime', 'Run1', 'StimType', 'VFDuration', 'SessionSelectionList', 'RunNumberFilterValue', 'SessionSelectionList.Cycle', 'SessionSelectionList.Sample', 'PreStimFix.OnsetDelay', 'PreStimFix.OnsetTime', 'PreStimFix.DurationError', 'PreStimFix.Duration', 'PreStimFix.StartTime', 'PreStimFix.FinishTime', 'PreStimFix.OnsetToOnsetTime', 'Stim.OnsetDelay', 'Stim.OnsetTime', 'Stim.DurationError', 'Stim.Duration', 'Stim.StartTime', 'Stim.FinishTime', 'Stim.RTTime', 'Stim.ACC', 'Stim.RT', 'Stim.RESP', 'Stim.CRESP', 'Stim.OnsetToOnsetTime', 'Fix.OnsetDelay', 'Fix.OnsetTime', 'Fix.DurationError', 'Fix.Duration', 'Fix.StartTime', 'Fix.FinishTime', 'Fix.OnsetToOnsetTime', 'Block']\n"
     ]
    }
   ],
   "source": [
    "df = pd.DataFrame(pd.read_table(perfRL[0]))\n",
    "print(df.columns.tolist())"
   ]
  },
  {
   "cell_type": "code",
   "execution_count": 14,
   "metadata": {
    "collapsed": false
   },
   "outputs": [
    {
     "name": "stdout",
     "output_type": "stream",
     "text": [
      "          HCPID          Stimulus  triggercode  RememberResp  \\\n",
      "42  100206_fnca  PL_008_92033.png            7             1   \n",
      "43  100206_fnca         o84.1.jpg            7             1   \n",
      "44  100206_fnca         p15.1.jpg            7             1   \n",
      "45  100206_fnca     FC_006_F3.png            7             1   \n",
      "46  100206_fnca           M63.bmp            7             1   \n",
      "47  100206_fnca     FC_010_F5.png            7             1   \n",
      "48  100206_fnca  PL_002_92014.png            7             1   \n",
      "49  100206_fnca         o14.1.jpg            7             1   \n",
      "50  100206_fnca  PL_010_92038.png            7             1   \n",
      "51  100206_fnca           F89.bmp            7             1   \n",
      "\n",
      "    Avg_RT_For_Remember_RESP_To_OldPlace  \\\n",
      "42                                     0   \n",
      "43                                     0   \n",
      "44                                     0   \n",
      "45                                     0   \n",
      "46                                     0   \n",
      "47                                     0   \n",
      "48                                     0   \n",
      "49                                     0   \n",
      "50                                     0   \n",
      "51                                     0   \n",
      "\n",
      "    Percent_Of_OldPlace_Rated_As_Remember  \\\n",
      "42                                      0   \n",
      "43                                      0   \n",
      "44                                      0   \n",
      "45                                      0   \n",
      "46                                      0   \n",
      "47                                      0   \n",
      "48                                      0   \n",
      "49                                      0   \n",
      "50                                      0   \n",
      "51                                      0   \n",
      "\n",
      "    Avg_RT_For_Remember_RESP_To_OldFace  Percent_Of_OldFace_Rated_As_Remember  \\\n",
      "42                               751.75                                   100   \n",
      "43                               751.75                                   100   \n",
      "44                               751.75                                   100   \n",
      "45                               751.75                                   100   \n",
      "46                               751.75                                   100   \n",
      "47                               751.75                                   100   \n",
      "48                               751.75                                   100   \n",
      "49                               751.75                                   100   \n",
      "50                               751.75                                   100   \n",
      "51                               751.75                                   100   \n",
      "\n",
      "    Stim.ACC  Stim.OnsetTime  Stim.Duration  \n",
      "42       0.0        276931.0         2000.0  \n",
      "43       1.0        280942.0         2000.0  \n",
      "44       1.0        284954.0         2000.0  \n",
      "45       1.0        288966.0         2000.0  \n",
      "46       0.0        292978.0         2000.0  \n",
      "47       1.0        296989.0         2000.0  \n",
      "48       0.0        301001.0         2000.0  \n",
      "49       1.0        305013.0         2000.0  \n",
      "50       0.0        309024.0         2000.0  \n",
      "51       0.0        313036.0         2000.0  \n"
     ]
    }
   ],
   "source": [
    "#display the first few rows of something potentially interesting\n",
    "#Note that I switch the order of the names to something that makes sense to me\n",
    "print(df[['HCPID','Stimulus','triggercode','RememberResp','Avg_RT_For_Remember_RESP_To_OldPlace','Percent_Of_OldPlace_Rated_As_Remember','Avg_RT_For_Remember_RESP_To_OldFace','Percent_Of_OldFace_Rated_As_Remember','Stim.ACC','Stim.OnsetTime','Stim.Duration']].tail(10))"
   ]
  },
  {
   "cell_type": "markdown",
   "metadata": {},
   "source": [
    "### What do I know now?\n",
    "1) The average and percent columns are repeats, not a running average. They are useless to pull\n",
    "\n",
    "2) There is some pre-experiment stimuli (the first four) that will need to get filtered out of final matrices with times and button pushes.\n",
    "\n",
    "3) The trigger doesn't seem to change.\n",
    "\n",
    "4) The table appears to be a nice summary of behavior that can be pulled with one or two lines of the sheet, rather than having to aggregate it ourselves."
   ]
  },
  {
   "cell_type": "code",
   "execution_count": null,
   "metadata": {
    "collapsed": true
   },
   "outputs": [],
   "source": []
  }
 ],
 "metadata": {
  "kernelspec": {
   "display_name": "Python 3",
   "language": "python",
   "name": "python3"
  },
  "language_info": {
   "codemirror_mode": {
    "name": "ipython",
    "version": 3
   },
   "file_extension": ".py",
   "mimetype": "text/x-python",
   "name": "python",
   "nbconvert_exporter": "python",
   "pygments_lexer": "ipython3",
   "version": "3.6.0"
  }
 },
 "nbformat": 4,
 "nbformat_minor": 2
}
